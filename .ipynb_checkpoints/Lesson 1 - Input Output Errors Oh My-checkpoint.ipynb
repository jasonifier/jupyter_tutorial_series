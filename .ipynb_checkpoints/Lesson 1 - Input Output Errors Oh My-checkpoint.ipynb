{
 "cells": [
  {
   "cell_type": "markdown",
   "metadata": {},
   "source": [
    "# Inputs, Outputs and Errors. Oh My!"
   ]
  },
  {
   "cell_type": "markdown",
   "metadata": {},
   "source": [
    "This notebook will cover some of the fundamental concepts for understanding how to interact with a Jupyter notebook.  They may manifest themselves with a more shiny interface or output rendering later on, but this is your starting point.  We will see some richer interfaces and visualizations in later notebooks to showcase more capabilities of Jupyter."
   ]
  },
  {
   "cell_type": "markdown",
   "metadata": {},
   "source": [
    "## The `input()` function"
   ]
  },
  {
   "cell_type": "markdown",
   "metadata": {},
   "source": [
    "We are using the Python programming language, and you'll see the Python logo and the text \"Python 3\" in the top right corner.  User input can be gathered with an aptly named function, `input()`.  Let's take a look at a few examples."
   ]
  },
  {
   "cell_type": "markdown",
   "metadata": {},
   "source": [
    "But before we do that, there is something you must know. When the following code cell is executed, it won't finish until you provide a response and hit `<Enter>`.  So when ready, type a response into the box that appears below the cell and tap the `<Enter>` key to finish the execution. Give it a shot!"
   ]
  },
  {
   "cell_type": "code",
   "execution_count": null,
   "metadata": {},
   "outputs": [],
   "source": [
    "x = input()"
   ]
  },
  {
   "cell_type": "markdown",
   "metadata": {},
   "source": [
    "Great! Now what? So your response was simply presented back to you and the value is saved to `x`. You can execute this simple cell below to verify that point."
   ]
  },
  {
   "cell_type": "code",
   "execution_count": null,
   "metadata": {},
   "outputs": [],
   "source": [
    "x"
   ]
  },
  {
   "cell_type": "markdown",
   "metadata": {},
   "source": [
    "Here is another example of the `input()` function.  Most inputs usually will have some text to describe what it wants to know."
   ]
  },
  {
   "cell_type": "code",
   "execution_count": null,
   "metadata": {},
   "outputs": [],
   "source": [
    "name = input('What is your name?')"
   ]
  },
  {
   "cell_type": "code",
   "execution_count": null,
   "metadata": {},
   "outputs": [],
   "source": [
    "name"
   ]
  },
  {
   "cell_type": "markdown",
   "metadata": {},
   "source": [
    "Multiple inputs"
   ]
  },
  {
   "cell_type": "code",
   "execution_count": null,
   "metadata": {},
   "outputs": [],
   "source": [
    "a = input('Favorite color?')\n",
    "b = input('Favorite food?')\n",
    "c = input('Favorite hobby?')"
   ]
  },
  {
   "cell_type": "markdown",
   "metadata": {},
   "source": [
    "Hopefully you are noticing the tick marks on either side of the values being saved in the previous examples.  We'll discuss that in more detail later.  But now onto the output portion of this lesson."
   ]
  },
  {
   "cell_type": "markdown",
   "metadata": {},
   "source": [
    "## The `print()` function"
   ]
  },
  {
   "cell_type": "markdown",
   "metadata": {},
   "source": [
    "You have already seen the print function in the introduction notebook.  This is one of the first functions to learn because it's used all the time and useful in seeing what your program knows or doesn't for that matter.  If all you could provide is input, and never see what that actually looks like to your Python program, that would be an ugly situation.  Let's start with the most common way to demonstrate the use of this function."
   ]
  },
  {
   "cell_type": "code",
   "execution_count": null,
   "metadata": {},
   "outputs": [],
   "source": [
    "print('Hello, World!')"
   ]
  },
  {
   "cell_type": "markdown",
   "metadata": {},
   "source": [
    "This is your classic \"Hello World\" example. It simply states or presents that line to the screen.  But it's important to realize that you invoked this function called `print()` and provided 1 argument, the text `'Hello, World!'`, and in return you got the message to appear below the cell. As simple as it may seem, `print()` is still one of the most commonly used functions.  Try a few more examples below!"
   ]
  },
  {
   "cell_type": "markdown",
   "metadata": {},
   "source": [
    "Input your own text into the `print()` function and run the cell."
   ]
  },
  {
   "cell_type": "code",
   "execution_count": null,
   "metadata": {},
   "outputs": [],
   "source": [
    "print()"
   ]
  },
  {
   "cell_type": "markdown",
   "metadata": {},
   "source": [
    "Try putting the same text above within the single quotes here for the value assigned to `text`. Do you get the same result?"
   ]
  },
  {
   "cell_type": "code",
   "execution_count": null,
   "metadata": {},
   "outputs": [],
   "source": [
    "text = ''\n",
    "print(text)"
   ]
  },
  {
   "cell_type": "markdown",
   "metadata": {},
   "source": [
    "You can actually provide more than 1 argument for the `print()` function.  What do you think this cell will do?"
   ]
  },
  {
   "cell_type": "code",
   "execution_count": null,
   "metadata": {},
   "outputs": [],
   "source": [
    "print(text, '1234')"
   ]
  },
  {
   "cell_type": "markdown",
   "metadata": {},
   "source": [
    "That's enough of the `print()` function for now.  So you just learned how to accept user input and render values to the screen, which are the fundamental interactions of input and output that any program running on your machine will likely have to do at some point; thus it is no different with Jupyter.  There is an exercise at the bottom for you to put these two functions together and write your own block of code from scratch."
   ]
  },
  {
   "cell_type": "markdown",
   "metadata": {},
   "source": [
    "## Errors Happen"
   ]
  },
  {
   "cell_type": "markdown",
   "metadata": {},
   "source": [
    "This section will not even come close to covering the many different types of errors that can happen while running a Jupyter notebook.  The goal however is to expose you to errors occurring during the execution of cells so you can keep an eye out and not be intimidated by them. We'll take a look at a couple scenarios."
   ]
  },
  {
   "cell_type": "markdown",
   "metadata": {},
   "source": [
    "### Scenario 1: Variable Names"
   ]
  },
  {
   "cell_type": "markdown",
   "metadata": {},
   "source": [
    "You've been using this concept throughout the series so far, but we haven't gone into much detail, and it has to do with **variables**.  A variable helps us store data for later use in our programs, just like the variable `text` was used to store some text data and later was printed to the screen."
   ]
  },
  {
   "cell_type": "markdown",
   "metadata": {},
   "source": [
    "**Variable naming convention** is important in Python and will be demonstrated in our first scenario here.  When the Jupyter notebook is asked to execute a code cell, the first thing it does is check the syntax of the cell.  If you aren't following the rules of the programming language, you will get back an error message.  When it comes to variables and their names, certain rules apply:"
   ]
  },
  {
   "cell_type": "markdown",
   "metadata": {},
   "source": [
    "1. A variable name must start with a letter or the underscore character.\n",
    "2. A variable name cannot start with a number.\n",
    "3. A variable name can only contain alpha-numeric characters and underscores (A-Z, a-z, 0-9, and _ )\n",
    "4. Variable names are case-sensitive (age, Age and AGE are three different variables)"
   ]
  },
  {
   "cell_type": "markdown",
   "metadata": {},
   "source": [
    "This code cell below will produce an error.  Take a good look and try to fix the error using the rules above. One good thing about the Jupyter notebook is it won't stop running if one of the cells produces an error. You can proceed with the lesson, no problem."
   ]
  },
  {
   "cell_type": "code",
   "execution_count": null,
   "metadata": {},
   "outputs": [],
   "source": [
    "my var = 'I like Jupyter!'\n",
    "print(my var)"
   ]
  },
  {
   "cell_type": "markdown",
   "metadata": {},
   "source": [
    "### Scenario 2: Incorrect Data Types"
   ]
  },
  {
   "cell_type": "markdown",
   "metadata": {},
   "source": [
    "We'll continue to discuss more about variables. The variables used so far have contained basic text, which Python refers to as strings (`str`) which are surrounded by single quotes, or double quotes.  We can check the data type of a variable with a function called `type()`."
   ]
  },
  {
   "cell_type": "code",
   "execution_count": null,
   "metadata": {},
   "outputs": [],
   "source": [
    "text = 'I like Jupyter!'\n",
    "type(text)"
   ]
  },
  {
   "cell_type": "markdown",
   "metadata": {},
   "source": [
    "Let's put the concepts we've learned so far to the test and see why data types are so important.  We have enough tools now to build a simple calculator with user input.  We want our calculator to take two numbers and muliply them together.  Let's start by writing the code to collect the inputs."
   ]
  },
  {
   "cell_type": "markdown",
   "metadata": {},
   "source": [
    "```python\n",
    "num1 = input('First Number:')\n",
    "num2 = input('Second Number:')\n",
    "```"
   ]
  },
  {
   "cell_type": "markdown",
   "metadata": {},
   "source": [
    "Now that we can store the inputs, we need to compute the result. Python uses the `*` symbol for multiplication as you may have guessed and let's store the answer in a variable also."
   ]
  },
  {
   "cell_type": "markdown",
   "metadata": {},
   "source": [
    "```python\n",
    "ans = num1 * num2\n",
    "```"
   ]
  },
  {
   "cell_type": "markdown",
   "metadata": {},
   "source": [
    "The last thing to do is print the answer. Copy and paste the 3 previous lines of code into the cell below and also include a `print()` statement to show the result of the calculator after execution. What happens when you run the cell?"
   ]
  },
  {
   "cell_type": "code",
   "execution_count": null,
   "metadata": {},
   "outputs": [],
   "source": [
    "# ERASE THIS COMMENT AND PASTE/INSERT CODE HERE"
   ]
  },
  {
   "cell_type": "markdown",
   "metadata": {},
   "source": [
    "You should have seen that Python can't multiply two strings.  But we inputted numbers right? I am sure you did but Python is quite literal in how it takes user input, it always assumes it is a string from the start.  The good thing is Python includes functions to allow for the programmer to convert data to different types.  Let's take advantage of this following trick to convert the user input to actual numbers.  We won't go more into numerical data here, but for now let's restrict our code to only work with whole numbers, which Python calls an `int`, short for integer."
   ]
  },
  {
   "cell_type": "markdown",
   "metadata": {},
   "source": [
    "Fix line 3 to compute the result of multiplying two `int` data objects."
   ]
  },
  {
   "cell_type": "markdown",
   "metadata": {},
   "source": [
    "```python\n",
    "ans = int(num1) * int(num2)\n",
    "```"
   ]
  },
  {
   "cell_type": "markdown",
   "metadata": {},
   "source": [
    "As you were able to see, the notebook doesn't crash and shutdown when it reached an error.  You were able to work through the issues without having to restart the whole notebook.  This may not be the case for every notebook you touch, because you may need to reset the values of some variables to fix any issues, and that may require a restart of the notebook.  However, the biggest point to make here is that errors happen, and are things that can be easily examined and hopefully fixed fairly quickly (which depends on the error of course). So always feel free to contact the author of the Jupyter notebooks you use, because they know errors happen all the time and understand it is part of the workflow of developing Jupyter notebooks. The more communication that occurs while receiving different errors, the more robust and resilient the notebooks become."
   ]
  },
  {
   "cell_type": "markdown",
   "metadata": {},
   "source": [
    "Try your hand at these couple of exercises to review the concepts of this lesson."
   ]
  },
  {
   "cell_type": "markdown",
   "metadata": {},
   "source": [
    "## Exercises"
   ]
  },
  {
   "cell_type": "markdown",
   "metadata": {},
   "source": [
    "1. Create a code cell to accept 3 inputs: person's name, year of birth, and age. Store those values with 3 variables and combine those values into a human readable sentence with the print function.\n",
    "\n",
    "    * (OPTIONAL) You probably notice that the inputs remain on the screen as you go along, and you can actually remove those to present a cleaner output.  Try using this code sample to help you clear the inputs before displaying the output of your code cell.\n",
    "\n",
    "```python\n",
    "from IPython.display import clear_output\n",
    "\n",
    "# code for inputs\n",
    "\n",
    "clear_output()\n",
    "\n",
    "# code for output\n",
    "```\n",
    "\n",
    "\n",
    "2. Create a code cell to implement division, similar to how you implemented multiplication in the lesson.  To make it a little more challenging, instead of converting the input data to `int`, try converting it to a type that is compatible with decimal numbers (such as 0.5).  So research what data type Python uses for these kind of numeric values."
   ]
  }
 ],
 "metadata": {
  "kernelspec": {
   "display_name": "Python 3",
   "language": "python",
   "name": "python3"
  },
  "language_info": {
   "codemirror_mode": {
    "name": "ipython",
    "version": 3
   },
   "file_extension": ".py",
   "mimetype": "text/x-python",
   "name": "python",
   "nbconvert_exporter": "python",
   "pygments_lexer": "ipython3",
   "version": "3.7.4"
  }
 },
 "nbformat": 4,
 "nbformat_minor": 4
}
