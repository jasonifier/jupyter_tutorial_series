{
 "cells": [
  {
   "cell_type": "code",
   "execution_count": null,
   "metadata": {},
   "outputs": [],
   "source": [
    "import re\n",
    "import requests\n",
    "from bs4 import BeautifulSoup\n",
    "import ipywidgets as widgets\n",
    "from IPython.display import display, clear_output, HTML"
   ]
  },
  {
   "cell_type": "code",
   "execution_count": null,
   "metadata": {},
   "outputs": [],
   "source": [
    "def google_search(widget):\n",
    "    global search_form, output_widget\n",
    "    \n",
    "    query = search_form.value.lower().replace(' ', '+')\n",
    "    resp = requests.get('https://www.google.com/search?q={}'.format(query))\n",
    "    \n",
    "    try:\n",
    "        soup = BeautifulSoup(resp.text, \"html.parser\")\n",
    "        data = soup.find_all(\"h3\")\n",
    "        results = [element for element in data if element.parent.name == 'a']\n",
    "\n",
    "        output = {}\n",
    "        for result in results:\n",
    "            text = result.text\n",
    "            endpoint, args = result.parent.attrs['href'].split('?')\n",
    "            if endpoint == '/url':\n",
    "                query_url_param = args.split('&')[0]\n",
    "                regexp_match = re.search('q=(.*)', query_url_param)\n",
    "                url = regexp_match.group(1)\n",
    "                output[text] = url\n",
    "\n",
    "        with output_widget:\n",
    "            clear_output()\n",
    "            for content, link in output.items():\n",
    "                html_string = \"<a href={1}><h3>{0}</h3></a>\".format(content, link.rstrip('/'))\n",
    "                display(HTML(html_string))\n",
    "                display(HTML(\"<h4>URL: {0}</h4>\".format(link)))\n",
    "            if not output:\n",
    "                display(HTML(\"<h3>Sorry ... try something else.</h3>\"))\n",
    "                \n",
    "    except:\n",
    "        with output_widget:\n",
    "            clear_output()\n",
    "            display(HTML(\"<h3>Sorry ... try something else.</h3>\"))"
   ]
  },
  {
   "cell_type": "code",
   "execution_count": null,
   "metadata": {},
   "outputs": [],
   "source": [
    "search_form = widgets.Text(\n",
    "                        value='',\n",
    "                        placeholder='Type something',\n",
    "                        description='Search:',\n",
    "                        disabled=False,\n",
    "                        layout=widgets.Layout(width='400px')\n",
    "                            )\n",
    "\n",
    "box_layout = widgets.Layout(display='flex',\n",
    "                flex_flow='column',\n",
    "                align_items='center',\n",
    "                width='70%')\n",
    "\n",
    "button = widgets.Button(description='Submit', button_style='success')\n",
    "button.on_click(google_search)\n",
    "output_widget = widgets.Output()\n",
    "vbox = widgets.VBox(children=[search_form, button, output_widget], layout=box_layout)\n",
    "vbox"
   ]
  }
 ],
 "metadata": {
  "kernelspec": {
   "display_name": "Python 3",
   "language": "python",
   "name": "python3"
  },
  "language_info": {
   "codemirror_mode": {
    "name": "ipython",
    "version": 3
   },
   "file_extension": ".py",
   "mimetype": "text/x-python",
   "name": "python",
   "nbconvert_exporter": "python",
   "pygments_lexer": "ipython3",
   "version": "3.7.4"
  }
 },
 "nbformat": 4,
 "nbformat_minor": 4
}
