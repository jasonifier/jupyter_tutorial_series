{
 "cells": [
  {
   "cell_type": "code",
   "execution_count": null,
   "metadata": {},
   "outputs": [],
   "source": [
    "import numpy as np\n",
    "from bokeh.plotting import figure, show\n",
    "from bokeh.io import output_notebook\n",
    "import pandas as pd\n",
    "import requests"
   ]
  },
  {
   "cell_type": "code",
   "execution_count": null,
   "metadata": {},
   "outputs": [],
   "source": [
    "N = 3000\n",
    "x = np.random.random(size=N) * 100\n",
    "y = np.random.random(size=N) * 100\n",
    "radii = np.random.random(size=N) * 1.5\n",
    "colors = ['#%02x%02x%02x' % (r, g, 150) for r, g in zip(np.floor(50+2*x).astype(np.int64), np.floor(30+2*y).astype(np.int64))]"
   ]
  },
  {
   "cell_type": "code",
   "execution_count": null,
   "metadata": {},
   "outputs": [],
   "source": [
    "output_notebook()"
   ]
  },
  {
   "cell_type": "code",
   "execution_count": null,
   "metadata": {},
   "outputs": [],
   "source": [
    "demo = figure()\n",
    "demo.circle(x, y, radius=radii, fill_color=colors, fill_alpha=0.6, line_color=None)\n",
    "show(demo)"
   ]
  },
  {
   "cell_type": "code",
   "execution_count": null,
   "metadata": {},
   "outputs": [],
   "source": [
    "url = 'https://raw.githubusercontent.com/derhuerst/mtcars/master/index.json'\n",
    "data = requests.get(url).json()\n",
    "df = pd.DataFrame(data)\n",
    "\n",
    "weights = df['wt'].values\n",
    "fuel_efficiency = df['mpg'].values\n",
    "\n",
    "p1 = figure(title='Motor Trend Cars Dataset (1974) - Weight vs. Fuel Efficiency')\n",
    "p1.xaxis.axis_label = 'Weight (x1000 lbs)'\n",
    "p1.yaxis.axis_label = 'Miles Per Gallon'\n",
    "p1.scatter(weights, fuel_efficiency, fill_color='blue', fill_alpha=0.6, size=12)\n",
    "show(p1)"
   ]
  },
  {
   "cell_type": "code",
   "execution_count": null,
   "metadata": {},
   "outputs": [],
   "source": [
    "counts_by_cyl = df.groupby('cyl').size()\n",
    "num_cylinders = list(map(str, counts_by_cyl.index.values))\n",
    "counts = counts_by_cyl.values\n",
    "\n",
    "p2 = figure(x_range=num_cylinders, plot_height=400, title=\"Count By Number of Cylinders\")\n",
    "\n",
    "p2.vbar(x=num_cylinders, top=counts, width=0.8, fill_color=['blue', 'orange', 'green'])\n",
    "\n",
    "p2.xgrid.grid_line_color = None\n",
    "p2.y_range.start = 0\n",
    "\n",
    "show(p2)"
   ]
  },
  {
   "cell_type": "code",
   "execution_count": null,
   "metadata": {},
   "outputs": [],
   "source": [
    "avg_mpg_by_cyl = df.groupby('cyl').mpg.mean()\n",
    "num_cylinders = list(map(str, avg_mpg_by_cyl.index.values))\n",
    "averages = avg_mpg_by_cyl.values\n",
    "\n",
    "p3 = figure(x_range=num_cylinders, plot_height=400, title=\"Average MPG By Number of Cylinders\")\n",
    "\n",
    "p3.vbar(x=num_cylinders, top=averages, width=0.8, fill_color=['blue', 'orange', 'green'])\n",
    "\n",
    "p3.xgrid.grid_line_color = None\n",
    "p3.y_range.start = 0\n",
    "\n",
    "show(p3)"
   ]
  },
  {
   "cell_type": "code",
   "execution_count": null,
   "metadata": {},
   "outputs": [],
   "source": [
    "# Find the quartiles and IQR for each category\n",
    "df['vs'] = df['vs'].astype(str)\n",
    "groups = df.groupby('vs')\n",
    "q1 = groups[['wt']].quantile(q=0.25)\n",
    "q2 = groups[['wt']].quantile(q=0.5)\n",
    "q3 = groups[['wt']].quantile(q=0.75)\n",
    "iqr = q3 - q1\n",
    "upper = q3 + 1.5*iqr\n",
    "lower = q1 - 1.5*iqr\n",
    "\n",
    "# Find the outliers for each category\n",
    "def outliers(group):\n",
    "    cat = group.name\n",
    "    return group[(group.wt > upper.loc[cat][0]) | (group.wt < lower.loc[cat][0])]['wt']\n",
    "out = groups.apply(outliers).dropna()\n",
    "\n",
    "# Prepare outlier data for plotting, we need coordinate for every outlier.\n",
    "outx = []\n",
    "outy = []\n",
    "cats = list(groups.groups.keys())\n",
    "for cat in cats:\n",
    "    # only add outliers if they exist\n",
    "    try:\n",
    "        if not out.loc[cat].empty:\n",
    "            for value in out[cat]:\n",
    "                outx.append(cat)\n",
    "                outy.append(value)\n",
    "    except KeyError:\n",
    "        continue\n",
    "        \n",
    "p4 = figure(x_range=cats, title='Comparison of Weight for V-Shaped [0] and Straight Engines [1]')\n",
    "\n",
    "# If no outliers, shrink lengths of stems to be no longer than the minimums or maximums\n",
    "qmin = groups[['wt']].quantile(q=0.00)\n",
    "qmax = groups[['wt']].quantile(q=1.00)\n",
    "upper.wt = [min([x,y]) for (x,y) in zip(list(qmax.iloc[:,0]),upper.wt) ]\n",
    "lower.wt = [max([x,y]) for (x,y) in zip(list(qmin.iloc[:,0]),lower.wt) ]\n",
    "\n",
    "# stems\n",
    "p4.segment(cats, upper.wt, cats, q3.wt, line_width=2, line_color=\"black\")\n",
    "p4.segment(cats, lower.wt, cats, q1.wt, line_width=2, line_color=\"black\")\n",
    "\n",
    "# boxes\n",
    "p4.rect(cats, (q3.wt+q2.wt)/2, 0.7, q3.wt-q2.wt, fill_color=\"#E08E79\", line_width=2, line_color=\"black\")\n",
    "p4.rect(cats, (q2.wt+q1.wt)/2, 0.7, q2.wt-q1.wt, fill_color=\"#3B8686\", line_width=2, line_color=\"black\")\n",
    "\n",
    "# whiskers (almost-0 height rects simpler than segments)\n",
    "p4.rect(cats, lower.wt, 0.2, 0.01, line_color=\"black\")\n",
    "p4.rect(cats, upper.wt, 0.2, 0.01, line_color=\"black\")\n",
    "\n",
    "# outliers\n",
    "p4.circle(outx, outy, size=6, color=\"#F38630\", fill_alpha=0.6)\n",
    "\n",
    "p4.xgrid.grid_line_color = None\n",
    "p4.ygrid.grid_line_color = \"white\"\n",
    "p4.grid.grid_line_width = 2\n",
    "p4.xaxis.major_label_text_font_size=\"12pt\"\n",
    "p4.yaxis.axis_label = 'Weight (x1000 lbs)'\n",
    "\n",
    "show(p4)"
   ]
  }
 ],
 "metadata": {
  "kernelspec": {
   "display_name": "Python 3",
   "language": "python",
   "name": "python3"
  },
  "language_info": {
   "codemirror_mode": {
    "name": "ipython",
    "version": 3
   },
   "file_extension": ".py",
   "mimetype": "text/x-python",
   "name": "python",
   "nbconvert_exporter": "python",
   "pygments_lexer": "ipython3",
   "version": "3.7.4"
  }
 },
 "nbformat": 4,
 "nbformat_minor": 4
}
