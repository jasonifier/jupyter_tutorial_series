{
 "cells": [
  {
   "cell_type": "code",
   "execution_count": null,
   "metadata": {},
   "outputs": [],
   "source": [
    "from IPython.display import display, HTML\n",
    "import subprocess\n",
    "import time\n",
    "\n",
    "cmd_out = subprocess.getoutput('jupyter nbextension list')\n",
    "extensions = ['jupyter-js-widgets/extension', 'qgrid/extension', 'jupyter-leaflet/extension']\n",
    "aliases = ['widgetsnbextension', 'qgrid', 'ipyleaflet']\n",
    "lookup = dict(zip(extensions, aliases))\n",
    "non_active_list = []\n",
    "\n",
    "for ext in extensions:\n",
    "    if f\"{ext} enabled\" not in cmd_out:\n",
    "        non_active_list.append(ext)\n",
    "        \n",
    "alert_msg='Extensions had to be enable for this instance. Please shutdown and reload notebook from your Jupyter home directory.'\n",
    "js = f\"<script>alert('{alert_msg}');</script>\"\n",
    "new_extensions_enabled = False\n",
    "\n",
    "for ext in non_active_list:\n",
    "    if lookup[ext] == 'qgrid':\n",
    "        !jupyter nbextension enable --py --sys-prefix qgrid\n",
    "        new_extensions_enabled = True\n",
    "    if lookup[ext] == 'widgetsnbextension':\n",
    "        !jupyter nbextension enable --py --sys-prefix widgetsnbextension\n",
    "        new_extensions_enabled = True\n",
    "    if lookup[ext] == 'ipyleaflet':\n",
    "        !jupyter nbextension enable --py --sys-prefix ipyleaflet\n",
    "        new_extensions_enabled = True\n",
    "\n",
    "time.sleep(2)\n",
    "if new_extensions_enabled:\n",
    "    display(HTML(js))\n",
    "else:\n",
    "    print(\"You're all set!\")"
   ]
  }
 ],
 "metadata": {
  "kernelspec": {
   "display_name": "Python 3",
   "language": "python",
   "name": "python3"
  },
  "language_info": {
   "codemirror_mode": {
    "name": "ipython",
    "version": 3
   },
   "file_extension": ".py",
   "mimetype": "text/x-python",
   "name": "python",
   "nbconvert_exporter": "python",
   "pygments_lexer": "ipython3",
   "version": "3.7.4"
  }
 },
 "nbformat": 4,
 "nbformat_minor": 4
}
