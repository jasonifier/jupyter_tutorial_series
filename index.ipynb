{
 "cells": [
  {
   "cell_type": "markdown",
   "metadata": {},
   "source": [
    "# Welcome to your Introduction to Jupyter Notebooks!"
   ]
  },
  {
   "cell_type": "markdown",
   "metadata": {},
   "source": [
    "Before you get started on the main content of this tutorial series, it would be best to get some background information on how to use this tool called Jupyter.  So please watch this video (link below, roughly 20 minutes in length) to get more comfortable with how to navigate the interface and learn why Jupyter notebooks are so widely used today."
   ]
  },
  {
   "cell_type": "markdown",
   "metadata": {},
   "source": [
    "https://www.youtube.com/watch?v=3C9E2yPBw7s"
   ]
  },
  {
   "cell_type": "markdown",
   "metadata": {},
   "source": [
    "If you would like to follow along with the video and write some of the code yourself and execute it within the notebook, you can refer to the following helpful hints."
   ]
  },
  {
   "cell_type": "markdown",
   "metadata": {},
   "source": [
    "## Adding Cells to the Notebook"
   ]
  },
  {
   "cell_type": "markdown",
   "metadata": {},
   "source": [
    "You can use the \"+\" button in the toolbar area to insert a cell below the currently selected cell in the notebook."
   ]
  },
  {
   "cell_type": "markdown",
   "metadata": {},
   "source": [
    "![insert cell icon](./images/add_cell_below_button.png)"
   ]
  },
  {
   "cell_type": "markdown",
   "metadata": {},
   "source": [
    "## Different Cell Types"
   ]
  },
  {
   "cell_type": "markdown",
   "metadata": {},
   "source": [
    "Jupyter supports a few main cell types, mainly for providing text annotations and writing executable code in the notebook.  To change the cell type or to simply see the options, you can select the dropdown arrow in the toolbar.  If you select another option, it will change the type used for the current cell only. Here we talk about **Code** and **Markdown** cell types as these are the most common. ![dropdown](./images/cell_type_dropdown.png)"
   ]
  },
  {
   "cell_type": "markdown",
   "metadata": {},
   "source": [
    "**Code** - If you tried adding a cell with the \"+\" button, you'll notice it created a code cell.  It's easy to identify code cells because they have a prefix of `In [ ]:` where the brackets will eventually contain a number once the code cell is executed for the first time.  This number is a count used to identify in which order the cells of the notebook were ran."
   ]
  },
  {
   "cell_type": "markdown",
   "metadata": {},
   "source": [
    "Try running the code cell below. After selecting the cell, you can click this button to execute the code. ![run button](./images/run_button.png)"
   ]
  },
  {
   "cell_type": "code",
   "execution_count": 3,
   "metadata": {},
   "outputs": [
    {
     "name": "stdout",
     "output_type": "stream",
     "text": [
      "Hello, World!\n",
      "Hello, World!\n",
      "Hello, World!\n",
      "Hello, World!\n",
      "Hello, World!\n"
     ]
    }
   ],
   "source": [
    "for i in range(5):\n",
    "    print(\"Hello, World!\")"
   ]
  },
  {
   "cell_type": "markdown",
   "metadata": {},
   "source": [
    "**Markdown** - used for adding static text and some other static content types as well, such as url links and images. Most of this notebook is written with markdown cells to provide explanation which is not meant for code execution. There is specific syntax to be used for creating different elements in markdown.  You can simply write static text in the same font but options do exist for better features like headers of various sizes, italicizing, bold face typing, and more."
   ]
  },
  {
   "cell_type": "markdown",
   "metadata": {},
   "source": [
    "Double click in the cell below to see the markdown syntax for creating these different headers. To see the rendering again, click the Run button."
   ]
  },
  {
   "cell_type": "markdown",
   "metadata": {},
   "source": [
    "# Header 1\n",
    "## Header 2\n",
    "### Header 3"
   ]
  },
  {
   "cell_type": "markdown",
   "metadata": {},
   "source": [
    "*italicized*"
   ]
  },
  {
   "cell_type": "markdown",
   "metadata": {},
   "source": [
    "**bold text**"
   ]
  },
  {
   "cell_type": "markdown",
   "metadata": {},
   "source": [
    "1. First\n",
    "2. Second\n",
    "3. Third"
   ]
  },
  {
   "cell_type": "markdown",
   "metadata": {},
   "source": [
    "If you are interested in learning some more, check out this markdown cheat sheet: https://guides.github.com/pdfs/markdown-cheatsheet-online.pdf"
   ]
  },
  {
   "cell_type": "markdown",
   "metadata": {},
   "source": [
    "# That's It For Now"
   ]
  },
  {
   "cell_type": "markdown",
   "metadata": {},
   "source": [
    "The video and these hints should hopefully get you comfortable enough with navigating the tool in order to proceed with the tutorial series. To get back to the main directory of notebooks, you can click on the Jupyter icon in the top left corner to return there and start with the next notebook. ![jupyter icon](./images/jupyter_icon_pointer.png)"
   ]
  }
 ],
 "metadata": {
  "kernelspec": {
   "display_name": "Python 3",
   "language": "python",
   "name": "python3"
  },
  "language_info": {
   "codemirror_mode": {
    "name": "ipython",
    "version": 3
   },
   "file_extension": ".py",
   "mimetype": "text/x-python",
   "name": "python",
   "nbconvert_exporter": "python",
   "pygments_lexer": "ipython3",
   "version": "3.7.4"
  }
 },
 "nbformat": 4,
 "nbformat_minor": 4
}
