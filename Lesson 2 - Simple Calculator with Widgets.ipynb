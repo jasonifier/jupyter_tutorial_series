{
 "cells": [
  {
   "cell_type": "code",
   "execution_count": null,
   "metadata": {},
   "outputs": [],
   "source": [
    "import ipywidgets as widgets\n",
    "from IPython.display import display, clear_output, HTML"
   ]
  },
  {
   "cell_type": "code",
   "execution_count": null,
   "metadata": {},
   "outputs": [],
   "source": [
    "multiply_btn = widgets.Button(description='Multiply', button_style='success')\n",
    "divide_btn = widgets.Button(description='Divide', button_style='success')\n",
    "add_btn = widgets.Button(description='Add', button_style='success')\n",
    "subtract_btn = widgets.Button(description='Subtract', button_style='success')\n",
    "clear_btn = widgets.Button(description='Clear', button_style='warning')"
   ]
  },
  {
   "cell_type": "code",
   "execution_count": null,
   "metadata": {},
   "outputs": [],
   "source": [
    "first_input = widgets.Text(value='', placeholder='Type a number', description='First Value', disabled=False)\n",
    "second_input = widgets.Text(value='', placeholder='Type a number', description='Second Value', disabled=False)\n",
    "output_widget = widgets.Output()\n",
    "vbox = widgets.VBox(children=[first_input, second_input])\n",
    "hbox = widgets.HBox(children=[multiply_btn, divide_btn, add_btn, subtract_btn])"
   ]
  },
  {
   "cell_type": "code",
   "execution_count": null,
   "metadata": {},
   "outputs": [],
   "source": [
    "def multiply(n1, n2):\n",
    "    try:\n",
    "        ans = float(n1) * float(n2)\n",
    "    except:\n",
    "        ans = 'ERROR'\n",
    "    return str(ans)\n",
    "\n",
    "def divide(n1, n2):\n",
    "    try:\n",
    "        ans = float(n1) / float(n2)\n",
    "    except:\n",
    "        ans = 'ERROR'\n",
    "    return str(ans)\n",
    "\n",
    "def add(n1, n2):\n",
    "    try:\n",
    "        ans = float(n1) + float(n2)\n",
    "    except:\n",
    "        ans = 'ERROR'\n",
    "    return str(ans)\n",
    "\n",
    "def subtract(n1, n2):\n",
    "    try:\n",
    "        ans = float(n1) - float(n2)\n",
    "    except:\n",
    "        ans = 'ERROR'\n",
    "    return str(ans)\n",
    "\n",
    "function_dict = {'Multiply': multiply, 'Divide': divide, 'Add': add, 'Subtract': subtract}\n",
    "\n",
    "def clear_answer(widget):\n",
    "    with output_widget:\n",
    "        clear_output()"
   ]
  },
  {
   "cell_type": "code",
   "execution_count": null,
   "metadata": {},
   "outputs": [],
   "source": [
    "def run(widget):\n",
    "    \n",
    "    func = function_dict[widget.description]\n",
    "    result = func(first_input.value, second_input.value)\n",
    "    \n",
    "    with output_widget:\n",
    "        clear_output()\n",
    "        display(HTML(\"<h3>{0}</h3>\".format(result)))\n",
    "        display(clear_btn)"
   ]
  },
  {
   "cell_type": "code",
   "execution_count": null,
   "metadata": {},
   "outputs": [],
   "source": [
    "multiply_btn.on_click(run)\n",
    "divide_btn.on_click(run)\n",
    "add_btn.on_click(run)\n",
    "subtract_btn.on_click(run)\n",
    "clear_btn.on_click(clear_answer)"
   ]
  },
  {
   "cell_type": "code",
   "execution_count": null,
   "metadata": {},
   "outputs": [],
   "source": [
    "interface = widgets.VBox(children=[vbox, hbox, output_widget])\n",
    "interface"
   ]
  }
 ],
 "metadata": {
  "kernelspec": {
   "display_name": "Python 3",
   "language": "python",
   "name": "python3"
  },
  "language_info": {
   "codemirror_mode": {
    "name": "ipython",
    "version": 3
   },
   "file_extension": ".py",
   "mimetype": "text/x-python",
   "name": "python",
   "nbconvert_exporter": "python",
   "pygments_lexer": "ipython3",
   "version": "3.7.4"
  }
 },
 "nbformat": 4,
 "nbformat_minor": 4
}
