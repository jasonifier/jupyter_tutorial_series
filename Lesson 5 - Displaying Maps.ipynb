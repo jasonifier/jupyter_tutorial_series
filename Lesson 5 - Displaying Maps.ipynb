{
 "cells": [
  {
   "cell_type": "code",
   "execution_count": 45,
   "metadata": {},
   "outputs": [],
   "source": [
    "import folium\n",
    "import pandas as pd\n",
    "import numpy as np\n",
    "from itertools import chain\n",
    "from IPython.display import FileLink"
   ]
  },
  {
   "cell_type": "code",
   "execution_count": 33,
   "metadata": {},
   "outputs": [],
   "source": [
    "with open('airport_locations.txt', 'r') as f:\n",
    "    lines = [line.strip('\\n') for line in f.readlines()]\n",
    "    data = [row.split(',') for row in lines]\n",
    "    headers = data.pop(0)\n",
    "    \n",
    "airports_df = pd.DataFrame(data, columns=headers)\n",
    "airports_df['Lat'] = airports_df['Lat'].astype(np.float64)\n",
    "airports_df['Lon'] = airports_df['Lon'].astype(np.float64)"
   ]
  },
  {
   "cell_type": "code",
   "execution_count": 34,
   "metadata": {},
   "outputs": [],
   "source": [
    "m1 = folium.Map(location=[40, -100], zoom_start=5, tiles='OpenStreetMap')\n",
    "\n",
    "tooltip = 'Click me!'\n",
    "\n",
    "airport_codes = airports_df['Airport'].unique().tolist()\n",
    "\n",
    "for code in airport_codes:\n",
    "    filtered = airports_df[airports_df['Airport'] == code]\n",
    "    airport_name = filtered['Name'].iloc[0]\n",
    "    geo_coords = chain.from_iterable(filtered[['Lat','Lon']].values.tolist())\n",
    "    popup_message = '{0} ({1})'.format(airport_name, code)\n",
    "    folium.Marker(list(geo_coords), popup=popup_message, tooltip=tooltip).add_to(m1)"
   ]
  },
  {
   "cell_type": "code",
   "execution_count": 36,
   "metadata": {
    "scrolled": false
   },
   "outputs": [],
   "source": [
    "m1"
   ]
  },
  {
   "cell_type": "code",
   "execution_count": 38,
   "metadata": {},
   "outputs": [],
   "source": [
    "url = 'https://raw.githubusercontent.com/python-visualization/folium/master/examples/data'\n",
    "state_geo = f'{url}/us-states.json'\n",
    "state_unemployment = f'{url}/US_Unemployment_Oct2012.csv'\n",
    "state_data = pd.read_csv(state_unemployment)\n",
    "\n",
    "m2 = folium.Map(location=[48, -102], zoom_start=3)\n",
    "\n",
    "folium.Choropleth(\n",
    "    geo_data=state_geo,\n",
    "    name='choropleth',\n",
    "    data=state_data,\n",
    "    columns=['State', 'Unemployment'],\n",
    "    key_on='feature.id',\n",
    "    fill_color='YlGn',\n",
    "    fill_opacity=0.7,\n",
    "    line_opacity=0.2,\n",
    "    legend_name='Unemployment Rate (%)'\n",
    ").add_to(m2)\n",
    "\n",
    "folium.LayerControl().add_to(m2);"
   ]
  },
  {
   "cell_type": "code",
   "execution_count": 40,
   "metadata": {},
   "outputs": [],
   "source": [
    "m2"
   ]
  },
  {
   "cell_type": "code",
   "execution_count": 48,
   "metadata": {},
   "outputs": [
    {
     "data": {
      "text/html": [
       "<a href='denali_map.html' target='_blank'>denali_map.html</a><br>"
      ],
      "text/plain": [
       "C:\\Users\\Owner\\Documents\\TeleworkShare\\denali_map.html"
      ]
     },
     "execution_count": 48,
     "metadata": {},
     "output_type": "execute_result"
    }
   ],
   "source": [
    "m3 = folium.Map(location=[63.0691783, -151.0218884], zoom_start=8, tiles='Stamen Terrain')\n",
    "fname = 'denali_map.html'\n",
    "m3.save(fname)\n",
    "FileLink(fname)"
   ]
  }
 ],
 "metadata": {
  "kernelspec": {
   "display_name": "Python 3",
   "language": "python",
   "name": "python3"
  },
  "language_info": {
   "codemirror_mode": {
    "name": "ipython",
    "version": 3
   },
   "file_extension": ".py",
   "mimetype": "text/x-python",
   "name": "python",
   "nbconvert_exporter": "python",
   "pygments_lexer": "ipython3",
   "version": "3.7.4"
  }
 },
 "nbformat": 4,
 "nbformat_minor": 4
}
